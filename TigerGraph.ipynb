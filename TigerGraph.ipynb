{
  "nbformat": 4,
  "nbformat_minor": 0,
  "metadata": {
    "colab": {
      "name": "TigerGraph.ipynb",
      "provenance": [],
      "collapsed_sections": [],
      "include_colab_link": true
    },
    "kernelspec": {
      "name": "python3",
      "display_name": "Python 3"
    },
    "language_info": {
      "name": "python"
    }
  },
  "cells": [
    {
      "cell_type": "markdown",
      "metadata": {
        "id": "view-in-github",
        "colab_type": "text"
      },
      "source": [
        "<a href=\"https://colab.research.google.com/github/atishaye/TigerGraph-Vid-Rec/blob/main/TigerGraph.ipynb\" target=\"_parent\"><img src=\"https://colab.research.google.com/assets/colab-badge.svg\" alt=\"Open In Colab\"/></a>"
      ]
    },
    {
      "cell_type": "code",
      "source": [
        "!pip install plotly --upgrade"
      ],
      "metadata": {
        "id": "C-ODv9TquJIX"
      },
      "execution_count": null,
      "outputs": []
    },
    {
      "cell_type": "code",
      "source": [
        "import os\n",
        "\n",
        "if not os.getenv(\"IS_TESTING\"):\n",
        "    # Automatically restart kernel after installs\n",
        "    import IPython\n",
        "\n",
        "    app = IPython.Application.instance()\n",
        "    app.kernel.do_shutdown(True)"
      ],
      "metadata": {
        "id": "qVceHkRTuVT1"
      },
      "execution_count": 3,
      "outputs": []
    },
    {
      "cell_type": "code",
      "source": [
        "!pip install pyTigerGraph"
      ],
      "metadata": {
        "id": "-3Vl8RTLunMp"
      },
      "execution_count": null,
      "outputs": []
    },
    {
      "cell_type": "code",
      "source": [
        "import pyTigerGraph as tg \n",
        "\n",
        "TG_SUBDOMAIN = 'tiger-graph' \n",
        "TG_HOST = \"https://\" + TG_SUBDOMAIN + \".i.tgcloud.io\" # GraphStudio Link\n",
        "\n",
        "TG_USERNAME = \"tigergraph\" # This should remain the same... \n",
        "TG_PASSWORD = \"tigergraph\" # Shh, it's our password! \n",
        "TG_GRAPHNAME = \"TikTok\" # The name of the graph \n",
        "\n",
        "conn = tg.TigerGraphConnection(host=TG_HOST, graphname=TG_GRAPHNAME, username=TG_USERNAME, password=TG_PASSWORD)\n",
        "conn.apiToken = conn.getToken(conn.createSecret())\n",
        "\n",
        "conn.gsql('ls')"
      ],
      "metadata": {
        "id": "cacv4SxZvKOV"
      },
      "execution_count": null,
      "outputs": []
    },
    {
      "cell_type": "code",
      "source": [
        "# Install the necessary libraries\n",
        "\n",
        "!pip install -q jupyter-dash\n",
        "!pip install dash_bootstrap_components\n",
        "\n",
        "# Import Pandas, Datetime, and Plotly Express\n",
        "\n",
        "import pandas as pd\n",
        "from datetime import datetime\n",
        "import plotly.express as px\n",
        "\n",
        "# Import Dash Libraries\n",
        "\n",
        "from jupyter_dash import JupyterDash\n",
        "import dash_bootstrap_components as dbc\n",
        "from dash import dcc\n",
        "from dash import html\n",
        "from dash.dependencies import Input, Output\n",
        "from dash import dash_table\n",
        "import dash\n",
        "\n",
        "import plotly.express as px\n",
        "import plotly.graph_objects as go"
      ],
      "metadata": {
        "id": "IuGhpeXfvjcF"
      },
      "execution_count": null,
      "outputs": []
    },
    {
      "cell_type": "code",
      "source": [
        "names = [\"leo\", \"ben\", \"matt\", \"don\", \"joe\"]\n",
        "per = 25\n",
        "num_coun = {}\n",
        "\n",
        "for i in names:\n",
        "    num_coun[i] = {}\n",
        "    query = conn.runInstalledQuery(\"recommendVideo\", params={\"targetUsername\": i, \"minWatchPercent\": per})\n",
        "    score = 0\n",
        "    for j in query[0][\"output\"]:\n",
        "        if j['attributes']['@score'] != -1:\n",
        "            score += 1\n",
        "            country = j['attributes']['country']\n",
        "            if country not in num_coun[i]:\n",
        "                num_coun[i][country] = 1\n",
        "            else:\n",
        "                num_coun[i][country] += 1\n",
        "\n",
        "print(num_coun)"
      ],
      "metadata": {
        "id": "Ai5-GdGSDpoD",
        "colab": {
          "base_uri": "https://localhost:8080/"
        },
        "outputId": "e9eb5db6-702c-4472-f962-5b29c598d6ed"
      },
      "execution_count": 3,
      "outputs": [
        {
          "output_type": "stream",
          "name": "stdout",
          "text": [
            "{'leo': {'Canada': 1, 'USA': 2, 'China': 1, 'Japan': 1}, 'ben': {'USA': 1, 'Mexico': 1, 'Canada': 2, 'China': 1}, 'matt': {'Mexico': 1, 'China': 1, 'USA': 3, 'Canada': 1, 'Japan': 1}, 'don': {'Canada': 1, 'USA': 3, 'Japan': 1}, 'joe': {'USA': 2, 'Canada': 2, 'Mexico': 1, 'China': 1}}\n"
          ]
        }
      ]
    },
    {
      "cell_type": "code",
      "source": [
        "match_TnA = {}\n",
        "for i in names:\n",
        "    query = conn.runInstalledQuery(\"recommendVideo\", params={\"targetUsername\": i, \"minWatchPercent\": 25})\n",
        "    ctr = 0\n",
        "    for j in query[0]['output']:\n",
        "        if j['attributes']['@score'] != -1:\n",
        "            ctr += j['attributes']['@matchingTagsAndAudios']\n",
        "    match_TnA[i] = ctr"
      ],
      "metadata": {
        "id": "YepyXUsAFFSW"
      },
      "execution_count": 4,
      "outputs": []
    },
    {
      "cell_type": "code",
      "source": [
        "scatter_per = {}\n",
        "for i in names:\n",
        "    scatter_per[i] = {}\n",
        "    for per in range(0, 101, 25):\n",
        "        query = conn.runInstalledQuery(\"recommendVideo\", params={\"targetUsername\": i, \"minWatchPercent\": 25})\n",
        "        scatter_per[i][per] = query[0][\"output\"][0]['attributes']['@score']"
      ],
      "metadata": {
        "id": "kKJ7cfaZKZ9n"
      },
      "execution_count": 5,
      "outputs": []
    },
    {
      "cell_type": "code",
      "source": [
        "countries = set()\n",
        "for i in num_coun:\n",
        "    for j in num_coun[i]:\n",
        "        countries.add(j)\n",
        "\n",
        "for i in countries:\n",
        "    for j in num_coun:\n",
        "        if i not in num_coun[j]:\n",
        "            num_coun[j][i] = 0"
      ],
      "metadata": {
        "id": "kVUzVitHedXy"
      },
      "execution_count": 6,
      "outputs": []
    },
    {
      "cell_type": "code",
      "source": [
        "titleCard =  dbc.Card([\n",
        "                dbc.CardBody([\n",
        "                              html.H1(\"Analytical Video Recommendation System\", className='card-title'),\n",
        "                            ])\n",
        "              ],\n",
        "              color='dark',\n",
        "              inverse=True,   \n",
        "              style={\n",
        "                  \"width\":\"55rem\",\n",
        "                  \"margin-left\":\"1rem\",\n",
        "                  \"margin-top\":\"1rem\",\n",
        "                  \"margin-bottom\":\"1rem\"\n",
        "                  }\n",
        "            )"
      ],
      "metadata": {
        "id": "MVunRznpGm3O"
      },
      "execution_count": 9,
      "outputs": []
    },
    {
      "cell_type": "code",
      "source": [
        "def getBar():\n",
        "    df = pd.DataFrame.from_dict(num_coun, orient='index')\n",
        "    fig = px.bar(df, x=list(countries), y=names, barmode = 'relative')\n",
        "    fig.update_layout(\n",
        "        title=\"Video Origin\", # Adding a title\n",
        "        yaxis_title=\"Name\", # Changing x-axis label\n",
        "        xaxis_title=\"No. of videoes\", # Changing y-axis label\n",
        "        yaxis_tickangle=45,\n",
        "        font=dict(\n",
        "            family=\"Courier New, monospace\", # The font style\n",
        "            color=\"RebeccaPurple\", # The font color\n",
        "            size=18 # The font size\n",
        "        )\n",
        "    )\n",
        "    return fig\n",
        "\n",
        "CountBarCard =  dbc.Card([\n",
        "                dbc.CardBody([\n",
        "                            html.H1(\"Geo Based\", className='card-title'),\n",
        "                            html.P(\"No. of recommended videos based on their coutry of origin. (Hover over individual colors to see the numerical values)\", className='card-body'),  \n",
        "                            dcc.Graph(id='Bar Chart', figure=getBar())\n",
        "                            ])\n",
        "            ],\n",
        "            outline=True,\n",
        "            color='info', # Options include: primary, secondary, info, success, warning, danger, light, dark  \n",
        "            style={\n",
        "                \"width\":\"50rem\",\n",
        "                \"margin-left\":\"1rem\",\n",
        "                \"margin-bottom\":\"1rem\"\n",
        "                }\n",
        "            )"
      ],
      "metadata": {
        "id": "rKURtjaPAL-O"
      },
      "execution_count": 10,
      "outputs": []
    },
    {
      "cell_type": "code",
      "source": [
        "def getPie():\n",
        "    df = pd.DataFrame.from_dict(match_TnA, orient='index')\n",
        "    fig = px.pie(df, values=list(match_TnA.values()), names = names, title= \"Matching Tags\", hole=0.2)\n",
        "    fig.update_traces(textposition='inside',\n",
        "                  textinfo='label+percent',\n",
        "                  opacity=0.9\n",
        "                  )\n",
        "    fig.update_layout(width=1000)\n",
        "    fig.update_layout(title_x=0.5)\n",
        "    return fig\n",
        "\n",
        "CountPieCard =  dbc.Card([\n",
        "                dbc.CardBody([\n",
        "                            html.H1(\"Tag Based\", className='card-title'),\n",
        "                            html.P(\"Relation between tags of user watched videos and recommended videos. (Hover over individual colors to see the numerical values)\", className='card-body'),  \n",
        "                            dcc.Graph(id='Pie Chart', figure=getPie())\n",
        "                            ])\n",
        "            ],\n",
        "            outline=True,\n",
        "                  color='info',\n",
        "                  style={\n",
        "                      \"width\":\"30rem\",\n",
        "                      \"margin-left\":\"1rem\",\n",
        "                      \"margin-bottom\":\"1rem\"\n",
        "                      \n",
        "                      }\n",
        "                )"
      ],
      "metadata": {
        "id": "rX5ZgVZ_RrrQ"
      },
      "execution_count": 11,
      "outputs": []
    },
    {
      "cell_type": "code",
      "source": [
        "#Main\n",
        "app = JupyterDash(__name__, external_stylesheets=[dbc.themes.BOOTSTRAP], suppress_callback_exceptions=True)\n",
        "\n",
        "namesList = [{'label':x, 'value':x} for x in names]\n",
        "jump_per = [i for i in range(0, 101, 25)]\n",
        "\n",
        "app.layout = html.Div(children=[\n",
        "    dbc.Row([\n",
        "            titleCard,\n",
        "           ],\n",
        "           justify = 'center',\n",
        "           style = {\n",
        "               \"margin-left\": \"0.5rem\"\n",
        "           }\n",
        "   ),\n",
        "\n",
        "    dbc.Row([\n",
        "        dcc.Dropdown(\n",
        "            id=\"example-input\",\n",
        "            placeholder=\"Enter a name...\" ,\n",
        "            options=namesList\n",
        "        ),\n",
        "        ], style={'width': '15%', 'display': 'inline-block'}\n",
        "    ),\n",
        "    dbc.Row([\n",
        "        html.Table([\n",
        "            html.Tr(children=[html.Td([\"Name\"]), html.Td([\"Watch %\"]), html.Td([\"Top Recommendation (Video Id)\"])],\n",
        "                    style={\"text-align\":\"center\", \"background-color\":\"#BB8FCE\", \"color\":'black'}),\n",
        "            html.Tr(children=[html.Td(id = 'my-output-name'), html.Td(id = 'my-output-per'), html.Td(id = 'my-output-id')],\n",
        "                    style={\"marginTop\": \"20px\", \"marginBottom\": \"20px\", \"text-align\":\"center\",\n",
        "                    \"background-color\":\"#F5B7B1\", \"color\":'#515A5A', \"width\":\"100%\",\n",
        "                    \"padding-top\": \"10px\", \"padding-bottom\": \"10px\"})\n",
        "        ])\n",
        "    ]),\n",
        "    \n",
        "    dbc.Row([\n",
        "        dcc.Slider(\n",
        "            id='my-slider',\n",
        "            min=0,\n",
        "            max=100,\n",
        "            step=25, \n",
        "            value = 10,\n",
        "            tooltip={\"placement\": \"bottom\", \"always_visible\": True}\n",
        "        )\n",
        "    ]), \n",
        "    dbc.Row([\n",
        "            dbc.Col([\n",
        "                     CountBarCard\n",
        "                    ]),\n",
        "            dbc.Col([\n",
        "                     CountPieCard\n",
        "                    ])\n",
        "           ],\n",
        "           justify = \"around\",\n",
        "           style = {\n",
        "               \"margin-left\": \"0.5rem\",\n",
        "               \"margin-right\":\"0.5rem\"\n",
        "           }\n",
        "    ),\n",
        "    dbc.Row([\n",
        "        dcc.Graph(id='graph-with-button'),\n",
        "        \n",
        "    ]),\n",
        "    dbc.Row([\n",
        "        html.P(\"     Graph depicting how the confidence score of the top reommended video changes with the minimum watch percentage to count as a view per user.\")\n",
        "    ]),\n",
        "    dbc.Row([\n",
        "        dcc.RadioItems(id='name-button',\n",
        "                        options=[\n",
        "                                {'label':name, 'value':name} for name in names\n",
        "                        ],\n",
        "                        value='leo',\n",
        "                        labelStyle={'display': 'inline-block'},\n",
        "                       inputStyle={\"margin-left\": \"50px\"},\n",
        "        )\n",
        "    ])\n",
        "])\n",
        "\n",
        "@app.callback(\n",
        "    Output('my-output-name', 'children'),\n",
        "    Output('my-output-per', 'children'),\n",
        "    Output('my-output-id', 'children'),\n",
        "    Input('my-slider', 'value'),\n",
        "    Input('example-input', 'value')\n",
        ")\n",
        "\n",
        "def update_output(per, name):\n",
        "    if name is None:\n",
        "        return (\"N/A\", \"N/A\", \"N/A\")\n",
        "    q = conn.runInstalledQuery(\"recommendVideo\", params={\"targetUsername\": name, \"minWatchPercent\": per})\n",
        "    #print(q)\n",
        "    video = q[0]['output'][0]['v_id']\n",
        "    new_name = name.title()\n",
        "    return new_name, per, video\n",
        "\n",
        "@app.callback(\n",
        "    Output('graph-with-button', 'figure'),\n",
        "    Input('name-button', 'value'))\n",
        "def update_figure(selected_name):\n",
        "    df = pd.DataFrame.from_dict(scatter_per[selected_name], orient='index')\n",
        "\n",
        "    fig = px.scatter(df, x=jump_per, y=list(scatter_per[selected_name].values()), size=0,\n",
        "                 hover_name=0, color = 0, log_x=True, size_max=60)\n",
        "\n",
        "    fig.update_layout(transition_duration=300, title = \"Watch% vs Top Video score\",\n",
        "                      xaxis_title = \"Watch %\", yaxis_title = \"Top Score\")\n",
        "\n",
        "    return fig\n",
        "\n",
        "app.run_server(mode = 'external')"
      ],
      "metadata": {
        "colab": {
          "base_uri": "https://localhost:8080/",
          "height": 53
        },
        "id": "1vwWWlhFN71K",
        "outputId": "1a6011ff-d2d4-4ed1-dc7c-1eeb3e86764b"
      },
      "execution_count": 12,
      "outputs": [
        {
          "output_type": "stream",
          "name": "stdout",
          "text": [
            "Dash app running on:\n"
          ]
        },
        {
          "output_type": "display_data",
          "data": {
            "application/javascript": [
              "(async (port, path, text, element) => {\n",
              "    if (!google.colab.kernel.accessAllowed) {\n",
              "      return;\n",
              "    }\n",
              "    element.appendChild(document.createTextNode(''));\n",
              "    const url = await google.colab.kernel.proxyPort(port);\n",
              "    const anchor = document.createElement('a');\n",
              "    anchor.href = new URL(path, url).toString();\n",
              "    anchor.target = '_blank';\n",
              "    anchor.setAttribute('data-href', url + path);\n",
              "    anchor.textContent = text;\n",
              "    element.appendChild(anchor);\n",
              "  })(8050, \"/\", \"http://127.0.0.1:8050/\", window.element)"
            ],
            "text/plain": [
              "<IPython.core.display.Javascript object>"
            ]
          },
          "metadata": {}
        }
      ]
    }
  ]
}